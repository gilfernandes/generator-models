{
 "cells": [
  {
   "cell_type": "code",
   "execution_count": 1,
   "id": "c3de6a2b-be30-4490-9f4b-52a35a349512",
   "metadata": {},
   "outputs": [],
   "source": [
    "import torch"
   ]
  },
  {
   "cell_type": "code",
   "execution_count": 2,
   "id": "8151d427-fcda-4385-a27e-50e9513140f7",
   "metadata": {},
   "outputs": [
    {
     "data": {
      "text/plain": [
       "tensor([[0., 0.],\n",
       "        [0., 0.]])"
      ]
     },
     "execution_count": 2,
     "metadata": {},
     "output_type": "execute_result"
    }
   ],
   "source": [
    "zeros = torch.zeros([2, 2])\n",
    "zeros"
   ]
  },
  {
   "cell_type": "code",
   "execution_count": 3,
   "id": "b2f0c821-9b03-48fe-83a1-eb923481d2e0",
   "metadata": {},
   "outputs": [
    {
     "data": {
      "text/plain": [
       "tensor([[0., 0.],\n",
       "        [0., 0.]])"
      ]
     },
     "execution_count": 3,
     "metadata": {},
     "output_type": "execute_result"
    }
   ],
   "source": [
    "zeros[:,-512:]"
   ]
  },
  {
   "cell_type": "code",
   "execution_count": 4,
   "id": "21359ba4-ceea-40dd-b54a-d3e6d28b397a",
   "metadata": {},
   "outputs": [
    {
     "data": {
      "text/plain": [
       "1"
      ]
     },
     "execution_count": 4,
     "metadata": {},
     "output_type": "execute_result"
    }
   ],
   "source": [
    "t1 = torch.tensor([1, 2])\n",
    "t1.dim()"
   ]
  },
  {
   "cell_type": "code",
   "execution_count": 5,
   "id": "d740c1cc-250f-4bd1-907a-31f92d0cccdb",
   "metadata": {},
   "outputs": [
    {
     "data": {
      "text/plain": [
       "torch.Size([2, 1])"
      ]
     },
     "execution_count": 5,
     "metadata": {},
     "output_type": "execute_result"
    }
   ],
   "source": [
    "t1.unsqueeze(1).shape"
   ]
  },
  {
   "cell_type": "code",
   "execution_count": 6,
   "id": "340b5387-94a9-435a-80bc-18ff13a2ff67",
   "metadata": {},
   "outputs": [],
   "source": [
    "from pathlib import Path\n",
    "import re"
   ]
  },
  {
   "cell_type": "code",
   "execution_count": 7,
   "id": "a5ca9f65-e0a7-46be-9a4c-4a82c348fea9",
   "metadata": {},
   "outputs": [],
   "source": [
    "alllines = Path('../data/shakespeare/alllines.txt')"
   ]
  },
  {
   "cell_type": "code",
   "execution_count": 8,
   "id": "35ed4162-75c2-4149-9a8b-0c48ad98f9dc",
   "metadata": {},
   "outputs": [],
   "source": [
    "with open(alllines) as f:\n",
    "    content = f.read()"
   ]
  },
  {
   "cell_type": "code",
   "execution_count": 9,
   "id": "bcdefd8f-fbf5-41a2-ae01-5c647031356c",
   "metadata": {},
   "outputs": [],
   "source": [
    "lines = content.split(\"\\n\")"
   ]
  },
  {
   "cell_type": "code",
   "execution_count": 10,
   "id": "a981df1f-d6e1-4582-abf2-100cf37403d2",
   "metadata": {},
   "outputs": [],
   "source": [
    "lines = [re.sub(r'(^\"|\"$)', '', l) for l in lines]"
   ]
  },
  {
   "cell_type": "code",
   "execution_count": 11,
   "id": "d108c150-d63c-49da-91dc-17b677d8eafa",
   "metadata": {},
   "outputs": [],
   "source": [
    "with open('../data/shakespeare/alllines_clean.txt', 'w') as f:\n",
    "    f.write(\"\\n\".join(lines))"
   ]
  },
  {
   "cell_type": "code",
   "execution_count": 12,
   "id": "a1f8b02b-ade0-4ff7-a8ba-a08e32fa7eec",
   "metadata": {},
   "outputs": [
    {
     "name": "stderr",
     "output_type": "stream",
     "text": [
      "IOPub data rate exceeded.\n",
      "The notebook server will temporarily stop sending output\n",
      "to the client in order to avoid crashing it.\n",
      "To change this limit, set the config variable\n",
      "`--NotebookApp.iopub_data_rate_limit`.\n",
      "\n",
      "Current values:\n",
      "NotebookApp.iopub_data_rate_limit=1000000.0 (bytes/sec)\n",
      "NotebookApp.rate_limit_window=3.0 (secs)\n",
      "\n"
     ]
    }
   ],
   "source": [
    "with open('../data/shakespeare/alllines_clean.txt', 'r') as f:\n",
    "    print(f.read())"
   ]
  },
  {
   "cell_type": "code",
   "execution_count": 13,
   "id": "649a4310-0a4d-4afe-a42e-24a0c1fb897f",
   "metadata": {},
   "outputs": [
    {
     "name": "stdout",
     "output_type": "stream",
     "text": [
      "Collecting tiktoken\n",
      "  Using cached tiktoken-0.3.3-cp38-cp38-manylinux_2_17_x86_64.manylinux2014_x86_64.whl (1.7 MB)\n",
      "Requirement already satisfied: requests>=2.26.0 in /opt/conda/lib/python3.8/site-packages (from tiktoken) (2.26.0)\n",
      "Requirement already satisfied: regex>=2022.1.18 in /opt/conda/lib/python3.8/site-packages (from tiktoken) (2022.1.18)\n",
      "Requirement already satisfied: charset-normalizer~=2.0.0 in /opt/conda/lib/python3.8/site-packages (from requests>=2.26.0->tiktoken) (2.0.9)\n",
      "Requirement already satisfied: idna<4,>=2.5 in /opt/conda/lib/python3.8/site-packages (from requests>=2.26.0->tiktoken) (3.1)\n",
      "Requirement already satisfied: urllib3<1.27,>=1.21.1 in /opt/conda/lib/python3.8/site-packages (from requests>=2.26.0->tiktoken) (1.26.7)\n",
      "Requirement already satisfied: certifi>=2017.4.17 in /opt/conda/lib/python3.8/site-packages (from requests>=2.26.0->tiktoken) (2022.9.24)\n",
      "Installing collected packages: tiktoken\n",
      "Successfully installed tiktoken-0.3.3\n",
      "\u001b[33mWARNING: Running pip as the 'root' user can result in broken permissions and conflicting behaviour with the system package manager. It is recommended to use a virtual environment instead: https://pip.pypa.io/warnings/venv\u001b[0m\u001b[33m\n",
      "\u001b[0m\n",
      "\u001b[1m[\u001b[0m\u001b[34;49mnotice\u001b[0m\u001b[1;39;49m]\u001b[0m\u001b[39;49m A new release of pip available: \u001b[0m\u001b[31;49m22.3.1\u001b[0m\u001b[39;49m -> \u001b[0m\u001b[32;49m23.0.1\u001b[0m\n",
      "\u001b[1m[\u001b[0m\u001b[34;49mnotice\u001b[0m\u001b[1;39;49m]\u001b[0m\u001b[39;49m To update, run: \u001b[0m\u001b[32;49mpip install --upgrade pip\u001b[0m\n"
     ]
    }
   ],
   "source": [
    "!pip install tiktoken"
   ]
  },
  {
   "cell_type": "code",
   "execution_count": 14,
   "id": "7cd4bea9-45b1-4939-bb42-0ca6f0a59fa1",
   "metadata": {},
   "outputs": [],
   "source": [
    "import tiktoken"
   ]
  },
  {
   "cell_type": "code",
   "execution_count": 18,
   "id": "3766c049-f968-4e84-ae00-64e4ae432984",
   "metadata": {},
   "outputs": [],
   "source": [
    "enc = tiktoken.get_encoding(\"cl100k_base\")"
   ]
  },
  {
   "cell_type": "code",
   "execution_count": 19,
   "id": "3f3e846b-4ec7-448d-aaf5-81675d77b6ab",
   "metadata": {},
   "outputs": [],
   "source": [
    "ten_lines = \"\\n\".join(lines[:10])"
   ]
  },
  {
   "cell_type": "code",
   "execution_count": 20,
   "id": "bdcab636-863a-4700-945e-838361fca942",
   "metadata": {},
   "outputs": [],
   "source": [
    "encoded = enc.encode(ten_lines)"
   ]
  },
  {
   "cell_type": "code",
   "execution_count": 39,
   "id": "52d89ea1-164a-4139-8e13-d1e0f865c36b",
   "metadata": {},
   "outputs": [
    {
     "data": {
      "text/plain": [
       "(95,\n",
       " 116,\n",
       " [11,\n",
       "  13,\n",
       "  43,\n",
       "  198,\n",
       "  264,\n",
       "  279,\n",
       "  287,\n",
       "  291,\n",
       "  304,\n",
       "  311,\n",
       "  315,\n",
       "  323,\n",
       "  328,\n",
       "  345,\n",
       "  358,\n",
       "  369,\n",
       "  387,\n",
       "  392,\n",
       "  420,\n",
       "  439,\n",
       "  449,\n",
       "  468,\n",
       "  473,\n",
       "  502,\n",
       "  527,\n",
       "  543,\n",
       "  578,\n",
       "  584,\n",
       "  596,\n",
       "  627,\n",
       "  643,\n",
       "  779,\n",
       "  810,\n",
       "  892,\n",
       "  965,\n",
       "  1077,\n",
       "  1271,\n",
       "  1866,\n",
       "  2059,\n",
       "  2512,\n",
       "  2695,\n",
       "  2822,\n",
       "  2871,\n",
       "  2875,\n",
       "  2911,\n",
       "  2967,\n",
       "  3067,\n",
       "  3083,\n",
       "  3112,\n",
       "  3624,\n",
       "  3885,\n",
       "  4208,\n",
       "  4516,\n",
       "  4985,\n",
       "  5151,\n",
       "  5613,\n",
       "  6403,\n",
       "  6680,\n",
       "  6966,\n",
       "  7295,\n",
       "  8839,\n",
       "  8870,\n",
       "  9096,\n",
       "  10086,\n",
       "  11492,\n",
       "  15195,\n",
       "  17003,\n",
       "  17614,\n",
       "  20396,\n",
       "  23726,\n",
       "  26346,\n",
       "  30647,\n",
       "  33763,\n",
       "  35263,\n",
       "  37397,\n",
       "  37420,\n",
       "  40915,\n",
       "  44439,\n",
       "  47525,\n",
       "  47798,\n",
       "  49196,\n",
       "  54352,\n",
       "  58477,\n",
       "  59570,\n",
       "  65362,\n",
       "  66190,\n",
       "  66900,\n",
       "  69864,\n",
       "  70549,\n",
       "  74911,\n",
       "  76275,\n",
       "  78853,\n",
       "  91396,\n",
       "  98208,\n",
       "  99378])"
      ]
     },
     "execution_count": 39,
     "metadata": {},
     "output_type": "execute_result"
    }
   ],
   "source": [
    "len(set(encoded)), len(encoded), sorted(set(encoded))"
   ]
  },
  {
   "cell_type": "code",
   "execution_count": 22,
   "id": "66e311ef-98c6-47be-b329-e8887a994c53",
   "metadata": {},
   "outputs": [
    {
     "name": "stdout",
     "output_type": "stream",
     "text": [
      "[6966, 358, 198, 3624, 37420, 358, 13, 7295, 13, 578, 44439, 627, 6403, 74911, 473, 965, 11492, 11, 58477, 76275, 3083, 47525, 35263, 643, 11, 279, 91396, 43, 315, 66190, 47798, 40915, 11, 328, 2871, 468, 49196, 15195, 70549, 11, 323, 3885, 198, 4516, 66900, 439, 584, 527, 11, 779, 78853, 449, 2512, 345, 10086, 584, 264, 892, 369, 30647, 291, 9096, 311, 26346, 345, 3112, 37397, 2875, 2695, 17003, 59570, 315, 502, 2967, 8839, 198, 1271, 387, 65362, 304, 69864, 99378, 8870, 627, 2822, 810, 279, 98208, 20396, 315, 420, 17614, 198, 2059, 543, 3067, 392, 1077, 23726, 449, 1077, 1866, 2911, 596, 6680, 345, 33763, 810, 4985, 54352, 287, 4208, 5613, 1077, 5151, 11]\n"
     ]
    }
   ],
   "source": [
    "print(encoded)"
   ]
  },
  {
   "cell_type": "code",
   "execution_count": 21,
   "id": "1b92293a-69a3-4dbc-9be4-24dd28ccc2e3",
   "metadata": {},
   "outputs": [
    {
     "name": "stdout",
     "output_type": "stream",
     "text": [
      "ACT I\n",
      "SCENE I. London. The palace.\n",
      "Enter KING HENRY, LORD JOHN OF LANCASTER, the EARL of WESTMORELAND, SIR WALTER BLUNT, and others\n",
      "So shaken as we are, so wan with care,\n",
      "Find we a time for frighted peace to pant,\n",
      "And breathe short-winded accents of new broils\n",
      "To be commenced in strands afar remote.\n",
      "No more the thirsty entrance of this soil\n",
      "Shall daub her lips with her own children's blood,\n",
      "Nor more shall trenching war channel her fields,\n"
     ]
    }
   ],
   "source": [
    "print(enc.decode(encoded))"
   ]
  },
  {
   "cell_type": "code",
   "execution_count": 44,
   "id": "8bbeeb62-d82c-4179-b2ec-b2e597b70cae",
   "metadata": {},
   "outputs": [
    {
     "data": {
      "text/plain": [
       "['__class__',\n",
       " '__delattr__',\n",
       " '__dict__',\n",
       " '__dir__',\n",
       " '__doc__',\n",
       " '__eq__',\n",
       " '__format__',\n",
       " '__ge__',\n",
       " '__getattribute__',\n",
       " '__gt__',\n",
       " '__hash__',\n",
       " '__init__',\n",
       " '__init_subclass__',\n",
       " '__le__',\n",
       " '__lt__',\n",
       " '__module__',\n",
       " '__ne__',\n",
       " '__new__',\n",
       " '__reduce__',\n",
       " '__reduce_ex__',\n",
       " '__repr__',\n",
       " '__setattr__',\n",
       " '__sizeof__',\n",
       " '__str__',\n",
       " '__subclasshook__',\n",
       " '__weakref__',\n",
       " '_core_bpe',\n",
       " '_encode_bytes',\n",
       " '_encode_only_native_bpe',\n",
       " '_encode_single_piece',\n",
       " '_mergeable_ranks',\n",
       " '_pat_str',\n",
       " '_special_tokens',\n",
       " 'decode',\n",
       " 'decode_bytes',\n",
       " 'decode_single_token_bytes',\n",
       " 'decode_tokens_bytes',\n",
       " 'encode',\n",
       " 'encode_batch',\n",
       " 'encode_ordinary',\n",
       " 'encode_ordinary_batch',\n",
       " 'encode_single_token',\n",
       " 'encode_with_unstable',\n",
       " 'eot_token',\n",
       " 'max_token_value',\n",
       " 'n_vocab',\n",
       " 'name',\n",
       " 'special_tokens_set',\n",
       " 'token_byte_values']"
      ]
     },
     "execution_count": 44,
     "metadata": {},
     "output_type": "execute_result"
    }
   ],
   "source": [
    "dir(enc)"
   ]
  },
  {
   "cell_type": "code",
   "execution_count": 45,
   "id": "e75262e3-04f2-4e68-b5bd-9f88f19c1559",
   "metadata": {},
   "outputs": [
    {
     "data": {
      "text/plain": [
       "100277"
      ]
     },
     "execution_count": 45,
     "metadata": {},
     "output_type": "execute_result"
    }
   ],
   "source": [
    "enc.n_vocab"
   ]
  },
  {
   "cell_type": "code",
   "execution_count": 29,
   "id": "07fe8876-99b0-45be-b760-208b492ad1cd",
   "metadata": {},
   "outputs": [
    {
     "data": {
      "text/plain": [
       "[b'\\x00',\n",
       " b'\\x01',\n",
       " b'\\x02',\n",
       " b'\\x03',\n",
       " b'\\x04',\n",
       " b'\\x05',\n",
       " b'\\x06',\n",
       " b'\\x07',\n",
       " b'\\x08',\n",
       " b'\\t']"
      ]
     },
     "execution_count": 29,
     "metadata": {},
     "output_type": "execute_result"
    }
   ],
   "source": [
    "enc.token_byte_values()[:10]"
   ]
  },
  {
   "cell_type": "code",
   "execution_count": 31,
   "id": "e2e91568-acea-4194-ad4f-1dbcacf79c66",
   "metadata": {},
   "outputs": [],
   "source": [
    "data = torch.tensor(enc.encode(ten_lines), dtype=torch.long)"
   ]
  },
  {
   "cell_type": "code",
   "execution_count": 35,
   "id": "8e491bc1-4df4-4722-8ae1-db53a3c14891",
   "metadata": {},
   "outputs": [
    {
     "data": {
      "text/plain": [
       "tensor([ 6966,   358,   198,  3624, 37420,   358,    13,  7295,    13,   578,\n",
       "        44439,   627,  6403, 74911,   473,   965, 11492,    11, 58477, 76275,\n",
       "         3083, 47525, 35263,   643,    11,   279, 91396,    43,   315, 66190,\n",
       "        47798, 40915,    11,   328,  2871,   468, 49196, 15195, 70549,    11,\n",
       "          323,  3885,   198,  4516, 66900,   439,   584,   527,    11,   779,\n",
       "        78853,   449,  2512,   345, 10086,   584,   264,   892,   369, 30647,\n",
       "          291,  9096,   311, 26346,   345,  3112, 37397,  2875,  2695, 17003,\n",
       "        59570,   315,   502,  2967,  8839,   198,  1271,   387, 65362,   304,\n",
       "        69864, 99378,  8870,   627,  2822,   810,   279, 98208, 20396,   315,\n",
       "          420, 17614])"
      ]
     },
     "execution_count": 35,
     "metadata": {},
     "output_type": "execute_result"
    }
   ],
   "source": [
    "n = int(0.8 * len(data))\n",
    "data[:n]"
   ]
  },
  {
   "cell_type": "code",
   "execution_count": null,
   "id": "8a8a2de2-b527-427e-9686-bee1d97459be",
   "metadata": {},
   "outputs": [],
   "source": []
  }
 ],
 "metadata": {
  "kernelspec": {
   "display_name": "Python 3",
   "language": "python",
   "name": "python3"
  },
  "language_info": {
   "codemirror_mode": {
    "name": "ipython",
    "version": 3
   },
   "file_extension": ".py",
   "mimetype": "text/x-python",
   "name": "python",
   "nbconvert_exporter": "python",
   "pygments_lexer": "ipython3",
   "version": "3.8.12"
  }
 },
 "nbformat": 4,
 "nbformat_minor": 5
}
